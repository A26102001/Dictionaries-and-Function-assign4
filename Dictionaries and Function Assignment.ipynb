{
 "cells": [
  {
   "cell_type": "markdown",
   "id": "86ff7bc6",
   "metadata": {},
   "source": [
    "## 1.1.1 Write a Python Program(with class concepts) to find the area of the triangle using the below formula area = (s*(s-a)*(s-b)*(s-c)) ** 0.5.\n"
   ]
  },
  {
   "cell_type": "code",
   "execution_count": 7,
   "id": "9704d43c",
   "metadata": {},
   "outputs": [
    {
     "name": "stdout",
     "output_type": "stream",
     "text": [
      "Enter the value of side i: 5\n",
      "Enter the value of side j:  6\n",
      "Enter the value of side k:  7\n",
      "Area of triangle is 14.696938456699069\n"
     ]
    }
   ],
   "source": [
    "class triangle():\n",
    "    def __init__(self,i,j,k):\n",
    "        self.i=i\n",
    "        self.j=j\n",
    "        self.k=k\n",
    "    def area(self):\n",
    "        s=(self.i+self.j+self.k)/2\n",
    "        area=(s*(s-self.i)*(s-self.j)*(s-self.k))**0.5\n",
    "        return area\n",
    "i=float(input(\"Enter the value of side i: \" ))\n",
    "j=float(input(\"Enter the value of side j:  \" ))\n",
    "k=float(input(\"Enter the value of side k:  \"))\n",
    "tri=triangle(i,j,k)\n",
    "print('Area of triangle is {}'.format(tri.area()))"
   ]
  },
  {
   "cell_type": "markdown",
   "id": "83f36e9f",
   "metadata": {},
   "source": [
    "## 1.2 Write a function filter_long_words() that takes a list of words and an integer n and returns the list of words that are longer than n.\n"
   ]
  },
  {
   "cell_type": "code",
   "execution_count": 17,
   "id": "a9a17443",
   "metadata": {},
   "outputs": [
    {
     "name": "stdout",
     "output_type": "stream",
     "text": [
      "Enter the value of n:6\n",
      "List of words longer than 6\n",
      "['artificial', 'Intelligence', 'Machine', 'Learning', 'DeepLearning']\n"
     ]
    }
   ],
   "source": [
    "def filter_long_words(List,n):\n",
    "    list1=[]\n",
    "    for i in range(0,len(List)):\n",
    "        if len(List[i])>n:\n",
    "            list1.append(List[i])\n",
    "    return list1\n",
    "List2=['artificial','Intelligence','Machine','Learning',\"data\",\"DeepLearning\"]\n",
    "n=int(input(\"Enter the value of n:\"))\n",
    "final=filter_long_words(List2,n)\n",
    "print(\"List of words longer than {}\".format(n))\n",
    "print(final)\n",
    "        \n"
   ]
  },
  {
   "cell_type": "markdown",
   "id": "57b86836",
   "metadata": {},
   "source": [
    "## 2.1 Write a Python program using function concept that maps list of words into a list of integers representing the lengths of the corresponding words.\n"
   ]
  },
  {
   "cell_type": "code",
   "execution_count": 21,
   "id": "6fcdf7d7",
   "metadata": {},
   "outputs": [
    {
     "name": "stdout",
     "output_type": "stream",
     "text": [
      "[3, 5, 6, 5]\n"
     ]
    }
   ],
   "source": [
    "def Length(List):\n",
    "    List1=[]\n",
    "    for i in range(0,len(List)):\n",
    "        List1.append(len(List[i]))\n",
    "    return List1\n",
    "words=['igf','buiey','hbuiey','heyuy']\n",
    "maped=Length(words)\n",
    "print(maped)\n",
    "    \n",
    "    "
   ]
  },
  {
   "cell_type": "markdown",
   "id": "2e80def6",
   "metadata": {},
   "source": [
    "## Q2.2 Write a Python function which takes a character (i.e. a string of length 1) and returns True if it is a vowel, False otherwise."
   ]
  },
  {
   "cell_type": "code",
   "execution_count": 27,
   "id": "7d59cd91",
   "metadata": {},
   "outputs": [
    {
     "name": "stdout",
     "output_type": "stream",
     "text": [
      "Enter a letter:B\n",
      "False\n"
     ]
    }
   ],
   "source": [
    "def vowel(x):\n",
    "    if len(x)==1:\n",
    "        if x in ('a','e','i','o','u','A','E','O','U','I'):\n",
    "            return True\n",
    "        else:\n",
    "            return False\n",
    "    else:\n",
    "            print(\"Write a single letter\")\n",
    "Enter=str(input(\"Enter a letter:\"))\n",
    "print(vowel(Enter))"
   ]
  },
  {
   "cell_type": "code",
   "execution_count": null,
   "id": "040b8948",
   "metadata": {},
   "outputs": [],
   "source": []
  }
 ],
 "metadata": {
  "kernelspec": {
   "display_name": "Python 3",
   "language": "python",
   "name": "python3"
  },
  "language_info": {
   "codemirror_mode": {
    "name": "ipython",
    "version": 3
   },
   "file_extension": ".py",
   "mimetype": "text/x-python",
   "name": "python",
   "nbconvert_exporter": "python",
   "pygments_lexer": "ipython3",
   "version": "3.8.8"
  }
 },
 "nbformat": 4,
 "nbformat_minor": 5
}
